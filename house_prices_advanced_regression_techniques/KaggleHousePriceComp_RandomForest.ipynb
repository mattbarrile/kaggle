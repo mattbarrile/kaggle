{
 "cells": [
  {
   "cell_type": "code",
   "execution_count": 1,
   "id": "464f432f",
   "metadata": {},
   "outputs": [],
   "source": [
    "#Import dependencies\n",
    "import pandas as pd\n",
    "import numpy as np\n",
    "import matplotlib.pyplot as plt\n",
    "from sklearn.ensemble import RandomForestRegressor\n",
    "from sklearn.model_selection import train_test_split"
   ]
  },
  {
   "cell_type": "code",
   "execution_count": 2,
   "id": "985214ad",
   "metadata": {},
   "outputs": [
    {
     "name": "stdout",
     "output_type": "stream",
     "text": [
      "Index(['Id', 'MSSubClass', 'MSZoning', 'LotFrontage', 'LotArea', 'Street',\n",
      "       'Alley', 'LotShape', 'LandContour', 'Utilities', 'LotConfig',\n",
      "       'LandSlope', 'Neighborhood', 'Condition1', 'Condition2', 'BldgType',\n",
      "       'HouseStyle', 'OverallQual', 'OverallCond', 'YearBuilt', 'YearRemodAdd',\n",
      "       'RoofStyle', 'RoofMatl', 'Exterior1st', 'Exterior2nd', 'MasVnrType',\n",
      "       'MasVnrArea', 'ExterQual', 'ExterCond', 'Foundation', 'BsmtQual',\n",
      "       'BsmtCond', 'BsmtExposure', 'BsmtFinType1', 'BsmtFinSF1',\n",
      "       'BsmtFinType2', 'BsmtFinSF2', 'BsmtUnfSF', 'TotalBsmtSF', 'Heating',\n",
      "       'HeatingQC', 'CentralAir', 'Electrical', '1stFlrSF', '2ndFlrSF',\n",
      "       'LowQualFinSF', 'GrLivArea', 'BsmtFullBath', 'BsmtHalfBath', 'FullBath',\n",
      "       'HalfBath', 'BedroomAbvGr', 'KitchenAbvGr', 'KitchenQual',\n",
      "       'TotRmsAbvGrd', 'Functional', 'Fireplaces', 'FireplaceQu', 'GarageType',\n",
      "       'GarageYrBlt', 'GarageFinish', 'GarageCars', 'GarageArea', 'GarageQual',\n",
      "       'GarageCond', 'PavedDrive', 'WoodDeckSF', 'OpenPorchSF',\n",
      "       'EnclosedPorch', '3SsnPorch', 'ScreenPorch', 'PoolArea', 'PoolQC',\n",
      "       'Fence', 'MiscFeature', 'MiscVal', 'MoSold', 'YrSold', 'SaleType',\n",
      "       'SaleCondition', 'SalePrice'],\n",
      "      dtype='object')\n"
     ]
    }
   ],
   "source": [
    "#Data input\n",
    "house_data = pd.read_csv('data/train.csv')\n",
    "\n",
    "print(house_data.columns)"
   ]
  },
  {
   "cell_type": "code",
   "execution_count": 3,
   "id": "c960aaa7",
   "metadata": {},
   "outputs": [
    {
     "name": "stdout",
     "output_type": "stream",
     "text": [
      "1095 365 1095 365\n"
     ]
    }
   ],
   "source": [
    "#Define predictor\n",
    "y = house_data.SalePrice\n",
    "\n",
    "#Define feature set\n",
    "feature_set = ['LotArea', 'YearBuilt', '1stFlrSF', '2ndFlrSF', 'FullBath', 'BedroomAbvGr', 'TotRmsAbvGrd']\n",
    "X = house_data[feature_set]\n",
    "\n",
    "#Split for training / testing\n",
    "X_train, X_test, y_train, y_test = train_test_split(X, y, random_state=1)\n",
    "\n",
    "print(len(X_train), len(X_test), len(y_train), len(y_test))"
   ]
  },
  {
   "cell_type": "code",
   "execution_count": 27,
   "id": "bf4d7db9",
   "metadata": {},
   "outputs": [
    {
     "name": "stdout",
     "output_type": "stream",
     "text": [
      "0.8510709964442956\n"
     ]
    }
   ],
   "source": [
    "#Define random forest regressor model with default n=100 trees\n",
    "regressor = RandomForestRegressor(random_state=1)\n",
    "\n",
    "#Fit model with training data\n",
    "regressor.fit(X_train, y_train)\n",
    "\n",
    "#Print model score\n",
    "print(regressor.score(X_test, y_test))"
   ]
  },
  {
   "cell_type": "code",
   "execution_count": 26,
   "id": "e277e0bb",
   "metadata": {},
   "outputs": [
    {
     "data": {
      "image/png": "[encoded data removed]",
      "text/plain": [
       "<Figure size 432x288 with 1 Axes>"
      ]
     },
     "metadata": {
      "needs_background": "light"
     },
     "output_type": "display_data"
    },
    {
     "name": "stdout",
     "output_type": "stream",
     "text": [
      "Number of trees: 60\n",
      "Score: 0.8548729382957859\n"
     ]
    }
   ],
   "source": [
    "#Loop through range of n_estimators values to determine maximum potential score\n",
    "scores = []\n",
    "for i in range(10, 1000, 10):\n",
    "    regressor = RandomForestRegressor(n_estimators = i, random_state=1)\n",
    "    regressor.fit(X_train, y_train)\n",
    "    scores.append(regressor.score(X_test, y_test))\n",
    "\n",
    "#Graph resulting scores\n",
    "plt.plot(scores)\n",
    "plt.show()\n",
    "\n",
    "#Find max score and correlating number of trees used in model generation\n",
    "max_score = max(scores)\n",
    "max_score_index = np.argmax(scores)\n",
    "max_score_trees = max_score_index*10\n",
    "\n",
    "print('Number of trees: {}\\nScore: {}'.format(max_score_trees, max_score))"
   ]
  },
  {
   "cell_type": "code",
   "execution_count": null,
   "id": "bf8c0af3",
   "metadata": {},
   "outputs": [],
   "source": []
  }
 ],
 "metadata": {
  "kernelspec": {
   "display_name": "Python 3 (ipykernel)",
   "language": "python",
   "name": "python3"
  },
  "language_info": {
   "codemirror_mode": {
    "name": "ipython",
    "version": 3
   },
   "file_extension": ".py",
   "mimetype": "text/x-python",
   "name": "python",
   "nbconvert_exporter": "python",
   "pygments_lexer": "ipython3",
   "version": "3.9.7"
  }
 },
 "nbformat": 4,
 "nbformat_minor": 5
}
